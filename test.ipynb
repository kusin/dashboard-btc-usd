{
 "cells": [
  {
   "cell_type": "code",
   "execution_count": 1,
   "metadata": {},
   "outputs": [],
   "source": [
    "OHLC = [\"Open\", \"High\", \"Low\", \"Close\"];"
   ]
  },
  {
   "cell_type": "code",
   "execution_count": 2,
   "metadata": {},
   "outputs": [
    {
     "name": "stdout",
     "output_type": "stream",
     "text": [
      "Open\n",
      "High\n",
      "Low\n",
      "Close\n"
     ]
    }
   ],
   "source": [
    "for x in OHLC:\n",
    "    print(x)"
   ]
  },
  {
   "cell_type": "code",
   "execution_count": 3,
   "metadata": {},
   "outputs": [],
   "source": [
    "import pandas as pd;\n",
    "import numpy as np;"
   ]
  },
  {
   "cell_type": "code",
   "execution_count": 4,
   "metadata": {},
   "outputs": [],
   "source": [
    "dataset = pd.read_csv(\"dataset/btc-usd.csv\", parse_dates=[\"Date\"]);"
   ]
  },
  {
   "cell_type": "code",
   "execution_count": 5,
   "metadata": {},
   "outputs": [
    {
     "name": "stdout",
     "output_type": "stream",
     "text": [
      "<class 'pandas.core.frame.DataFrame'>\n",
      "RangeIndex: 2891 entries, 0 to 2890\n",
      "Data columns (total 7 columns):\n",
      " #   Column     Non-Null Count  Dtype         \n",
      "---  ------     --------------  -----         \n",
      " 0   Date       2891 non-null   datetime64[ns]\n",
      " 1   Open       2891 non-null   float64       \n",
      " 2   High       2891 non-null   float64       \n",
      " 3   Low        2891 non-null   float64       \n",
      " 4   Close      2891 non-null   float64       \n",
      " 5   Adj Close  2891 non-null   float64       \n",
      " 6   Volume     2891 non-null   int64         \n",
      "dtypes: datetime64[ns](1), float64(5), int64(1)\n",
      "memory usage: 158.2 KB\n"
     ]
    }
   ],
   "source": [
    "dataset.info();"
   ]
  },
  {
   "cell_type": "code",
   "execution_count": 6,
   "metadata": {},
   "outputs": [
    {
     "data": {
      "text/html": [
       "<div>\n",
       "<style scoped>\n",
       "    .dataframe tbody tr th:only-of-type {\n",
       "        vertical-align: middle;\n",
       "    }\n",
       "\n",
       "    .dataframe tbody tr th {\n",
       "        vertical-align: top;\n",
       "    }\n",
       "\n",
       "    .dataframe thead th {\n",
       "        text-align: right;\n",
       "    }\n",
       "</style>\n",
       "<table border=\"1\" class=\"dataframe\">\n",
       "  <thead>\n",
       "    <tr style=\"text-align: right;\">\n",
       "      <th></th>\n",
       "      <th>Date</th>\n",
       "      <th>Open</th>\n",
       "      <th>High</th>\n",
       "      <th>Low</th>\n",
       "      <th>Close</th>\n",
       "      <th>Adj Close</th>\n",
       "      <th>Volume</th>\n",
       "    </tr>\n",
       "  </thead>\n",
       "  <tbody>\n",
       "    <tr>\n",
       "      <th>0</th>\n",
       "      <td>2015-01-01</td>\n",
       "      <td>320.434998</td>\n",
       "      <td>320.434998</td>\n",
       "      <td>314.002991</td>\n",
       "      <td>314.248993</td>\n",
       "      <td>314.248993</td>\n",
       "      <td>8036550</td>\n",
       "    </tr>\n",
       "    <tr>\n",
       "      <th>1</th>\n",
       "      <td>2015-01-02</td>\n",
       "      <td>314.079010</td>\n",
       "      <td>315.838989</td>\n",
       "      <td>313.565002</td>\n",
       "      <td>315.032013</td>\n",
       "      <td>315.032013</td>\n",
       "      <td>7860650</td>\n",
       "    </tr>\n",
       "    <tr>\n",
       "      <th>2</th>\n",
       "      <td>2015-01-03</td>\n",
       "      <td>314.846008</td>\n",
       "      <td>315.149994</td>\n",
       "      <td>281.082001</td>\n",
       "      <td>281.082001</td>\n",
       "      <td>281.082001</td>\n",
       "      <td>33054400</td>\n",
       "    </tr>\n",
       "    <tr>\n",
       "      <th>3</th>\n",
       "      <td>2015-01-04</td>\n",
       "      <td>281.145996</td>\n",
       "      <td>287.230011</td>\n",
       "      <td>257.612000</td>\n",
       "      <td>264.195007</td>\n",
       "      <td>264.195007</td>\n",
       "      <td>55629100</td>\n",
       "    </tr>\n",
       "    <tr>\n",
       "      <th>4</th>\n",
       "      <td>2015-01-05</td>\n",
       "      <td>265.084015</td>\n",
       "      <td>278.341003</td>\n",
       "      <td>265.084015</td>\n",
       "      <td>274.473999</td>\n",
       "      <td>274.473999</td>\n",
       "      <td>43962800</td>\n",
       "    </tr>\n",
       "    <tr>\n",
       "      <th>...</th>\n",
       "      <td>...</td>\n",
       "      <td>...</td>\n",
       "      <td>...</td>\n",
       "      <td>...</td>\n",
       "      <td>...</td>\n",
       "      <td>...</td>\n",
       "      <td>...</td>\n",
       "    </tr>\n",
       "    <tr>\n",
       "      <th>2886</th>\n",
       "      <td>2022-11-26</td>\n",
       "      <td>16521.576172</td>\n",
       "      <td>16666.863281</td>\n",
       "      <td>16416.228516</td>\n",
       "      <td>16464.281250</td>\n",
       "      <td>16464.281250</td>\n",
       "      <td>18000008764</td>\n",
       "    </tr>\n",
       "    <tr>\n",
       "      <th>2887</th>\n",
       "      <td>2022-11-27</td>\n",
       "      <td>16463.882813</td>\n",
       "      <td>16594.406250</td>\n",
       "      <td>16437.025391</td>\n",
       "      <td>16444.626953</td>\n",
       "      <td>16444.626953</td>\n",
       "      <td>20443898509</td>\n",
       "    </tr>\n",
       "    <tr>\n",
       "      <th>2888</th>\n",
       "      <td>2022-11-28</td>\n",
       "      <td>16440.222656</td>\n",
       "      <td>16482.933594</td>\n",
       "      <td>16054.530273</td>\n",
       "      <td>16217.322266</td>\n",
       "      <td>16217.322266</td>\n",
       "      <td>27743025156</td>\n",
       "    </tr>\n",
       "    <tr>\n",
       "      <th>2889</th>\n",
       "      <td>2022-11-29</td>\n",
       "      <td>16217.639648</td>\n",
       "      <td>16522.257813</td>\n",
       "      <td>16139.396484</td>\n",
       "      <td>16444.982422</td>\n",
       "      <td>16444.982422</td>\n",
       "      <td>23581685468</td>\n",
       "    </tr>\n",
       "    <tr>\n",
       "      <th>2890</th>\n",
       "      <td>2022-11-30</td>\n",
       "      <td>16445.476563</td>\n",
       "      <td>17190.937500</td>\n",
       "      <td>16445.476563</td>\n",
       "      <td>17168.566406</td>\n",
       "      <td>17168.566406</td>\n",
       "      <td>29523576583</td>\n",
       "    </tr>\n",
       "  </tbody>\n",
       "</table>\n",
       "<p>2891 rows × 7 columns</p>\n",
       "</div>"
      ],
      "text/plain": [
       "           Date          Open          High           Low         Close  \\\n",
       "0    2015-01-01    320.434998    320.434998    314.002991    314.248993   \n",
       "1    2015-01-02    314.079010    315.838989    313.565002    315.032013   \n",
       "2    2015-01-03    314.846008    315.149994    281.082001    281.082001   \n",
       "3    2015-01-04    281.145996    287.230011    257.612000    264.195007   \n",
       "4    2015-01-05    265.084015    278.341003    265.084015    274.473999   \n",
       "...         ...           ...           ...           ...           ...   \n",
       "2886 2022-11-26  16521.576172  16666.863281  16416.228516  16464.281250   \n",
       "2887 2022-11-27  16463.882813  16594.406250  16437.025391  16444.626953   \n",
       "2888 2022-11-28  16440.222656  16482.933594  16054.530273  16217.322266   \n",
       "2889 2022-11-29  16217.639648  16522.257813  16139.396484  16444.982422   \n",
       "2890 2022-11-30  16445.476563  17190.937500  16445.476563  17168.566406   \n",
       "\n",
       "         Adj Close       Volume  \n",
       "0       314.248993      8036550  \n",
       "1       315.032013      7860650  \n",
       "2       281.082001     33054400  \n",
       "3       264.195007     55629100  \n",
       "4       274.473999     43962800  \n",
       "...            ...          ...  \n",
       "2886  16464.281250  18000008764  \n",
       "2887  16444.626953  20443898509  \n",
       "2888  16217.322266  27743025156  \n",
       "2889  16444.982422  23581685468  \n",
       "2890  17168.566406  29523576583  \n",
       "\n",
       "[2891 rows x 7 columns]"
      ]
     },
     "execution_count": 6,
     "metadata": {},
     "output_type": "execute_result"
    }
   ],
   "source": [
    "dataset"
   ]
  },
  {
   "cell_type": "code",
   "execution_count": 7,
   "metadata": {},
   "outputs": [
    {
     "data": {
      "text/html": [
       "<div>\n",
       "<style scoped>\n",
       "    .dataframe tbody tr th:only-of-type {\n",
       "        vertical-align: middle;\n",
       "    }\n",
       "\n",
       "    .dataframe tbody tr th {\n",
       "        vertical-align: top;\n",
       "    }\n",
       "\n",
       "    .dataframe thead th {\n",
       "        text-align: right;\n",
       "    }\n",
       "</style>\n",
       "<table border=\"1\" class=\"dataframe\">\n",
       "  <thead>\n",
       "    <tr style=\"text-align: right;\">\n",
       "      <th></th>\n",
       "      <th>Date</th>\n",
       "      <th>Open</th>\n",
       "      <th>High</th>\n",
       "      <th>Low</th>\n",
       "      <th>Close</th>\n",
       "      <th>Adj Close</th>\n",
       "    </tr>\n",
       "  </thead>\n",
       "  <tbody>\n",
       "    <tr>\n",
       "      <th>0</th>\n",
       "      <td>2015-01-01</td>\n",
       "      <td>320.434998</td>\n",
       "      <td>320.434998</td>\n",
       "      <td>314.002991</td>\n",
       "      <td>314.248993</td>\n",
       "      <td>314.248993</td>\n",
       "    </tr>\n",
       "  </tbody>\n",
       "</table>\n",
       "</div>"
      ],
      "text/plain": [
       "        Date        Open        High         Low       Close   Adj Close\n",
       "0 2015-01-01  320.434998  320.434998  314.002991  314.248993  314.248993"
      ]
     },
     "execution_count": 7,
     "metadata": {},
     "output_type": "execute_result"
    }
   ],
   "source": [
    "dataset.iloc[:1, :-1]"
   ]
  },
  {
   "cell_type": "code",
   "execution_count": 8,
   "metadata": {},
   "outputs": [
    {
     "data": {
      "text/html": [
       "<div>\n",
       "<style scoped>\n",
       "    .dataframe tbody tr th:only-of-type {\n",
       "        vertical-align: middle;\n",
       "    }\n",
       "\n",
       "    .dataframe tbody tr th {\n",
       "        vertical-align: top;\n",
       "    }\n",
       "\n",
       "    .dataframe thead th {\n",
       "        text-align: right;\n",
       "    }\n",
       "</style>\n",
       "<table border=\"1\" class=\"dataframe\">\n",
       "  <thead>\n",
       "    <tr style=\"text-align: right;\">\n",
       "      <th></th>\n",
       "      <th>Open</th>\n",
       "    </tr>\n",
       "  </thead>\n",
       "  <tbody>\n",
       "    <tr>\n",
       "      <th>2890</th>\n",
       "      <td>16445.476563</td>\n",
       "    </tr>\n",
       "  </tbody>\n",
       "</table>\n",
       "</div>"
      ],
      "text/plain": [
       "              Open\n",
       "2890  16445.476563"
      ]
     },
     "execution_count": 8,
     "metadata": {},
     "output_type": "execute_result"
    }
   ],
   "source": [
    "dataset.iloc[-1:, 1:2]"
   ]
  },
  {
   "cell_type": "code",
   "execution_count": 9,
   "metadata": {},
   "outputs": [
    {
     "data": {
      "text/plain": [
       "16445.476563"
      ]
     },
     "execution_count": 9,
     "metadata": {},
     "output_type": "execute_result"
    }
   ],
   "source": [
    "dataset[\"Open\"].iloc[-1]"
   ]
  },
  {
   "cell_type": "code",
   "execution_count": 5,
   "metadata": {},
   "outputs": [],
   "source": [
    "list = [[\"Open\", \"High\", \"Low\", \"Close\"], ['red', 'blue', 'yellow', 'blue']]\n"
   ]
  },
  {
   "cell_type": "code",
   "execution_count": 6,
   "metadata": {},
   "outputs": [
    {
     "name": "stdout",
     "output_type": "stream",
     "text": [
      "['Open', 'High', 'Low', 'Close']\n",
      "['red', 'blue', 'yellow', 'blue']\n"
     ]
    }
   ],
   "source": [
    "for x in list:\n",
    "    print(x);"
   ]
  },
  {
   "cell_type": "code",
   "execution_count": null,
   "metadata": {},
   "outputs": [],
   "source": []
  }
 ],
 "metadata": {
  "kernelspec": {
   "display_name": "base",
   "language": "python",
   "name": "python3"
  },
  "language_info": {
   "codemirror_mode": {
    "name": "ipython",
    "version": 3
   },
   "file_extension": ".py",
   "mimetype": "text/x-python",
   "name": "python",
   "nbconvert_exporter": "python",
   "pygments_lexer": "ipython3",
   "version": "3.9.13"
  },
  "orig_nbformat": 4,
  "vscode": {
   "interpreter": {
    "hash": "37197ad202cea1caf8a636a74cec7c83b945e4f29ac1505900600f740c02611d"
   }
  }
 },
 "nbformat": 4,
 "nbformat_minor": 2
}
